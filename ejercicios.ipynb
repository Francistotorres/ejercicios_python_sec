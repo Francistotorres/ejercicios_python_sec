{
  "nbformat": 4,
  "nbformat_minor": 0,
  "metadata": {
    "colab": {
      "provenance": [],
      "authorship_tag": "ABX9TyOx2/jZ9E/ZWJcIFh4kvv8a",
      "include_colab_link": true
    },
    "kernelspec": {
      "name": "python3",
      "display_name": "Python 3"
    },
    "language_info": {
      "name": "python"
    }
  },
  "cells": [
    {
      "cell_type": "markdown",
      "metadata": {
        "id": "view-in-github",
        "colab_type": "text"
      },
      "source": [
        "<a href=\"https://colab.research.google.com/github/Francistotorres/ejercicios_python_sec/blob/main/ejercicios.ipynb\" target=\"_parent\"><img src=\"https://colab.research.google.com/assets/colab-badge.svg\" alt=\"Open In Colab\"/></a>"
      ]
    },
    {
      "cell_type": "code",
      "execution_count": null,
      "metadata": {
        "id": "HdN97beCbqzf",
        "outputId": "080187de-58f5-4bcd-819a-178197b6d143",
        "colab": {
          "base_uri": "https://localhost:8080/"
        }
      },
      "outputs": [
        {
          "output_type": "stream",
          "name": "stdout",
          "text": [
            "Escriba su nombre Francisco\n",
            "cual es tu edad 19\n",
            "hola,  Francisco\n",
            "tienes 19 años\n"
          ]
        }
      ],
      "source": [
        "name= input(\"Escriba su nombre\")\n",
        "age = int(input(\"cual es tu edad\"))\n",
        "print(\"hola,\",name)\n",
        "print(\"tienes\",str(age),\"años\" )"
      ]
    },
    {
      "cell_type": "markdown",
      "source": [
        "# Ejercicio 1: Área de un Rectángulo\n",
        "Calcular el área de un rectagulo a partir de su base y altura:\n",
        "A = b * h"
      ],
      "metadata": {
        "id": "qFJmxI8DfOxq"
      }
    },
    {
      "cell_type": "code",
      "source": [
        "print(\"programa para calcular el área de un rectángulo\")\n",
        "b = float(input(\"ingrese la base de (m):\"))\n",
        "h = float(input(\"ingrese la altura de (m)\"))\n",
        "A = b * h\n",
        "print(\"el área de un rentángulo con base\",str(b), \"(m) y altura\", str(h),\"(m) es\", str(A),\"m2.\",)"
      ],
      "metadata": {
        "id": "aOTAjN4lf1bG",
        "outputId": "90cb6936-6be1-4cff-9432-eb25c6f3b085",
        "colab": {
          "base_uri": "https://localhost:8080/"
        }
      },
      "execution_count": 14,
      "outputs": [
        {
          "output_type": "stream",
          "name": "stdout",
          "text": [
            "programa para calcular el área de un rectángulo\n",
            "ingrese la base de (m):56.90\n",
            "ingrese la altura de (m)76.25\n",
            "el área de un rentángulo con base 56.9 (m) y altura 76.25 (m) es 4338.625 m2.\n"
          ]
        }
      ]
    },
    {
      "cell_type": "code",
      "source": [
        "\n"
      ],
      "metadata": {
        "id": "SQGqye6wfsB6"
      },
      "execution_count": null,
      "outputs": []
    },
    {
      "cell_type": "markdown",
      "source": [
        "# Ejercicio 2 : Área de un triángulo:\n",
        "\n",
        "Calcular el área de un triángulo\n",
        "\n",
        "A = b * h / 2"
      ],
      "metadata": {
        "id": "iP_Kkn5DyrDK"
      }
    },
    {
      "cell_type": "code",
      "source": [
        "print(\"programa para calcular el área de un triángulo\")\n",
        "b = float(input(\"ingrese la base (m)\"))\n",
        "h = float(input(\"ingrese la altura (m)\"))\n",
        "A = b * h / 2\n",
        "print(\"el área de un triángulo con base\", str(b),\"(m) y altura\", str(h),\"(m) es\",str(A),\"m2\")"
      ],
      "metadata": {
        "id": "1UUukvCP0t2q",
        "outputId": "c0d5529f-f09a-4228-8b17-518415bc14e7",
        "colab": {
          "base_uri": "https://localhost:8080/"
        }
      },
      "execution_count": 12,
      "outputs": [
        {
          "output_type": "stream",
          "name": "stdout",
          "text": [
            "programa para calcular el área de un triángulo\n",
            "ingrese la base (m)12.0\n",
            "ingrese la altura (m)8.0\n",
            "el área de un triángulo con base 12.0 (m) y altura 8.0 (m) es 48.0 m2\n"
          ]
        }
      ]
    },
    {
      "cell_type": "markdown",
      "source": [
        "\n",
        "\n",
        "```\n",
        "\n",
        "```\n",
        "\n",
        "# Ejercicio 3 : Área de un círculo:\n",
        "Calcular y mostrar el area de un circulo\n",
        "\n",
        "A = pi * r**2\n",
        "\n"
      ],
      "metadata": {
        "id": "Lasj7EF6iUej"
      }
    },
    {
      "cell_type": "code",
      "source": [
        "import math\n",
        "print(\"Programa para calcular el Área del círculo\")\n",
        "r = float(input(\"Ingrese el radio (m)\"))\n",
        "A = math.pi * r ** 2\n",
        "print(\"El área del círculo con radio\",str(r), \"(m) es\",str (A),\"m2.\")"
      ],
      "metadata": {
        "id": "mnor7-B7ivF4",
        "outputId": "0fb2fd9a-4969-4c53-f505-bc8e6118c30f",
        "colab": {
          "base_uri": "https://localhost:8080/"
        }
      },
      "execution_count": null,
      "outputs": [
        {
          "output_type": "stream",
          "name": "stdout",
          "text": [
            "Programa para calcular el Área del círculo\n",
            "Ingrese el radio (m)12.5\n",
            "El área del círculo con radio 12.5 (m) es 490.8738521234052 m2.\n"
          ]
        }
      ]
    },
    {
      "cell_type": "markdown",
      "source": [
        "# Ejercicios 4: Voltaje instantaneo:\n",
        "\n",
        "Calcular y mostrar el voltaje  en un instante de tiempo  $t$ dada su amplitud, frecuencia y ángulo de fase:\n",
        "\n",
        "theta = ang * pi / 180\n",
        "\n",
        "omega = 2 * pi * f\n",
        "\n",
        "V = amp * cos( theta * t + omega)\n",
        "\n",
        "$$\\theta_V = ang\\times\\pi/180$$\n"
      ],
      "metadata": {
        "id": "u1qApBxxkjc4"
      }
    },
    {
      "cell_type": "code",
      "source": [
        "print"
      ],
      "metadata": {
        "id": "N4VYnDN-9SzO"
      },
      "execution_count": null,
      "outputs": []
    }
  ]
}