{
  "nbformat": 4,
  "nbformat_minor": 0,
  "metadata": {
    "colab": {
      "provenance": [],
      "authorship_tag": "ABX9TyMN2BsJ6sdRgrHs6Z7pUZJK",
      "include_colab_link": true
    },
    "kernelspec": {
      "name": "python3",
      "display_name": "Python 3"
    },
    "language_info": {
      "name": "python"
    }
  },
  "cells": [
    {
      "cell_type": "markdown",
      "metadata": {
        "id": "view-in-github",
        "colab_type": "text"
      },
      "source": [
        "<a href=\"https://colab.research.google.com/github/Francistotorres/ejercicios_python_sec/blob/main/ejercicios.ipynb\" target=\"_parent\"><img src=\"https://colab.research.google.com/assets/colab-badge.svg\" alt=\"Open In Colab\"/></a>"
      ]
    },
    {
      "cell_type": "code",
      "execution_count": 6,
      "metadata": {
        "id": "HdN97beCbqzf",
        "outputId": "080187de-58f5-4bcd-819a-178197b6d143",
        "colab": {
          "base_uri": "https://localhost:8080/"
        }
      },
      "outputs": [
        {
          "output_type": "stream",
          "name": "stdout",
          "text": [
            "Escriba su nombre Francisco\n",
            "cual es tu edad 19\n",
            "hola,  Francisco\n",
            "tienes 19 años\n"
          ]
        }
      ],
      "source": [
        "name= input(\"Escriba su nombre\")\n",
        "age = int(input(\"cual es tu edad\"))\n",
        "print(\"hola,\",name)\n",
        "print(\"tienes\",str(age),\"años\" )"
      ]
    },
    {
      "cell_type": "markdown",
      "source": [
        "# Ejercicio 2: Área de un triángulo\n",
        "Calcular el área de un rectagulo a partir de su base y altura:\n",
        "A = b * h"
      ],
      "metadata": {
        "id": "qFJmxI8DfOxq"
      }
    },
    {
      "cell_type": "code",
      "source": [
        "print(\"programa para calcular el área de un rectángulo\")\n",
        "b = float(input(\"ingrese la base de (m):\"))\n",
        "h = float(input(\"ingrese la altura de (m)\"))\n",
        "A = b * h\n",
        "print(\"el área de un rentángulo con base\",str(b), \"(m) y altura\", str(h),\"(m) es\", str(A),\"m2.\",)"
      ],
      "metadata": {
        "id": "aOTAjN4lf1bG",
        "outputId": "f5ddb4e3-9015-4348-ab66-d1ecdf82a7cb",
        "colab": {
          "base_uri": "https://localhost:8080/"
        }
      },
      "execution_count": 8,
      "outputs": [
        {
          "output_type": "stream",
          "name": "stdout",
          "text": [
            "programa para calcular el área de un rectángulo\n",
            "ingrese la base de (m):24\n",
            "ingrese la altura de (m)25\n",
            "el área de un rentángulo con base 24.0 (m) y altura 25.0 (m) es 600.0 m2.\n"
          ]
        }
      ]
    },
    {
      "cell_type": "code",
      "source": [
        "\n"
      ],
      "metadata": {
        "id": "SQGqye6wfsB6"
      },
      "execution_count": null,
      "outputs": []
    },
    {
      "cell_type": "markdown",
      "source": [
        "# Ejercicio 3 = Área de un círculo:\n",
        "Calcular y mostrar el area de un circulo\n",
        "\n",
        "A = pi * r**2\n",
        "\n"
      ],
      "metadata": {
        "id": "Lasj7EF6iUej"
      }
    },
    {
      "cell_type": "code",
      "source": [
        "import math\n",
        "print(\"Programa para calcular el Área del círculo\")\n",
        "r = float(input(\"Ingrese el radio (m)\"))\n",
        "A = math.pi * r ** 2\n",
        "print(\"El área del círculo con radio\",str(r), \"(m) es\",str (A),\"m2.\")"
      ],
      "metadata": {
        "id": "mnor7-B7ivF4",
        "outputId": "0fb2fd9a-4969-4c53-f505-bc8e6118c30f",
        "colab": {
          "base_uri": "https://localhost:8080/"
        }
      },
      "execution_count": 9,
      "outputs": [
        {
          "output_type": "stream",
          "name": "stdout",
          "text": [
            "Programa para calcular el Área del círculo\n",
            "Ingrese el radio (m)12.5\n",
            "El área del círculo con radio 12.5 (m) es 490.8738521234052 m2.\n"
          ]
        }
      ]
    },
    {
      "cell_type": "markdown",
      "source": [
        "# Ejercicios 4: Voltaje instantaneo\n",
        "\n",
        "Calcular y mostrar el voltaje  en un instante de tiempo  $t$ dada su amplitud,\n",
        "¿"
      ],
      "metadata": {
        "id": "u1qApBxxkjc4"
      }
    }
  ]
}